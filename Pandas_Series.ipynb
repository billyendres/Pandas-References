{
 "cells": [
  {
   "cell_type": "code",
   "execution_count": 1,
   "id": "8e7928c0-ed1b-4388-a516-6921a6f124d0",
   "metadata": {},
   "outputs": [],
   "source": [
    "import numpy as np"
   ]
  },
  {
   "cell_type": "code",
   "execution_count": 6,
   "id": "2de1d104-abe5-466c-a2d0-49309647cd12",
   "metadata": {},
   "outputs": [],
   "source": [
    "import pandas as pd"
   ]
  },
  {
   "cell_type": "code",
   "execution_count": 3,
   "id": "45550570-7e81-42f2-8e93-f708817d4e86",
   "metadata": {},
   "outputs": [],
   "source": [
    "# help(pd.Series)"
   ]
  },
  {
   "cell_type": "code",
   "execution_count": 4,
   "id": "f1ce22be-ed26-4852-9cbe-411c6441ebfd",
   "metadata": {},
   "outputs": [],
   "source": [
    "myindex = ['USA', 'CANADA', 'MEXICO']"
   ]
  },
  {
   "cell_type": "code",
   "execution_count": 5,
   "id": "f35fde64-bc50-4640-80e5-eaa5da8904ab",
   "metadata": {},
   "outputs": [],
   "source": [
    "mydata = [1776, 1867, 1821]"
   ]
  },
  {
   "cell_type": "code",
   "execution_count": 13,
   "id": "ed6a4772-c758-4f07-83d8-aad557961e42",
   "metadata": {},
   "outputs": [
    {
     "data": {
      "text/plain": [
       "USA       1776\n",
       "CANADA    1867\n",
       "MEXICO    1821\n",
       "dtype: int64"
      ]
     },
     "execution_count": 13,
     "metadata": {},
     "output_type": "execute_result"
    }
   ],
   "source": [
    "myseries = pd.Series(mydata, myindex)\n",
    "myseries #Automaticall displays default numeric index if no index is provided"
   ]
  },
  {
   "cell_type": "code",
   "execution_count": 12,
   "id": "ad7100ee-414d-46e1-974d-c4f79bb6c740",
   "metadata": {},
   "outputs": [
    {
     "data": {
      "text/plain": [
       "1776"
      ]
     },
     "execution_count": 12,
     "metadata": {},
     "output_type": "execute_result"
    }
   ],
   "source": [
    "myseries[0]\n",
    "myseries['USA'] #Same output, accessible by numeric index or labeled index"
   ]
  },
  {
   "cell_type": "code",
   "execution_count": 17,
   "id": "fb046605-cd82-4635-aa16-abfac9e98f1d",
   "metadata": {},
   "outputs": [],
   "source": [
    "#Dictionaries - Automatically transorms into a labeled index with corrosponding values"
   ]
  },
  {
   "cell_type": "code",
   "execution_count": 15,
   "id": "ca3d97e3-a349-4b72-b5ab-765c5cdf325f",
   "metadata": {},
   "outputs": [],
   "source": [
    "ages = {'Sam': 20, 'Luke': 15, 'Albert': 55}"
   ]
  },
  {
   "cell_type": "code",
   "execution_count": 16,
   "id": "fe6b022d-e103-4772-82df-0069a0b56173",
   "metadata": {},
   "outputs": [
    {
     "data": {
      "text/plain": [
       "Sam       20\n",
       "Luke      15\n",
       "Albert    55\n",
       "dtype: int64"
      ]
     },
     "execution_count": 16,
     "metadata": {},
     "output_type": "execute_result"
    }
   ],
   "source": [
    "pd.Series(ages)"
   ]
  },
  {
   "cell_type": "code",
   "execution_count": 1,
   "id": "50f931f8-f72d-48ee-807c-fdd00e8aa585",
   "metadata": {},
   "outputs": [],
   "source": [
    "#Company sales Data from Q1 & Q2 "
   ]
  },
  {
   "cell_type": "code",
   "execution_count": 2,
   "id": "7c6b9b08-3330-4382-bb46-49778ac50e05",
   "metadata": {},
   "outputs": [],
   "source": [
    "q1 = {'Japan': 80, 'China': 450, 'India': 200, 'USA': 250}\n",
    "q2 = {'Brazil': 100, 'China': 500, 'India': 210, 'USA': 260}"
   ]
  },
  {
   "cell_type": "code",
   "execution_count": 7,
   "id": "9644a783-1d73-4939-ab01-9b7241bc1c72",
   "metadata": {},
   "outputs": [],
   "source": [
    "sales_q1 = pd.Series(q1)"
   ]
  },
  {
   "cell_type": "code",
   "execution_count": 8,
   "id": "805b0ac0-4de3-4a6f-8233-a5e87f9717b8",
   "metadata": {},
   "outputs": [],
   "source": [
    "sales_q2 = pd.Series(q2)"
   ]
  },
  {
   "cell_type": "code",
   "execution_count": 9,
   "id": "fb1a2a29-5288-4a24-af3f-7f74d5a42f2c",
   "metadata": {},
   "outputs": [
    {
     "data": {
      "text/plain": [
       "80"
      ]
     },
     "execution_count": 9,
     "metadata": {},
     "output_type": "execute_result"
    }
   ],
   "source": [
    "sales_q1['Japan']"
   ]
  },
  {
   "cell_type": "code",
   "execution_count": 11,
   "id": "c43d9dfb-20e0-4fdf-a185-dcd6b6b3a292",
   "metadata": {},
   "outputs": [
    {
     "data": {
      "text/plain": [
       "Index(['Japan', 'China', 'India', 'USA'], dtype='object')"
      ]
     },
     "execution_count": 11,
     "metadata": {},
     "output_type": "execute_result"
    }
   ],
   "source": [
    "sales_q1.keys() #Locate key name strings"
   ]
  },
  {
   "cell_type": "code",
   "execution_count": 13,
   "id": "68a3c63f-0af9-49d2-985d-d0de87059560",
   "metadata": {},
   "outputs": [
    {
     "data": {
      "text/plain": [
       "Japan    0.8\n",
       "China    4.5\n",
       "India    2.0\n",
       "USA      2.5\n",
       "dtype: float64"
      ]
     },
     "execution_count": 13,
     "metadata": {},
     "output_type": "execute_result"
    }
   ],
   "source": [
    "sales_q1 * 2 \n",
    "sales_q1 / 100 #get percentage"
   ]
  },
  {
   "cell_type": "code",
   "execution_count": 15,
   "id": "cfec1958-ea83-4d87-9e3a-61c12da24124",
   "metadata": {},
   "outputs": [
    {
     "data": {
      "text/plain": [
       "Brazil      NaN\n",
       "China     950.0\n",
       "India     410.0\n",
       "Japan       NaN\n",
       "USA       510.0\n",
       "dtype: float64"
      ]
     },
     "execution_count": 15,
     "metadata": {},
     "output_type": "execute_result"
    }
   ],
   "source": [
    "sales_q1 + sales_q2 #Recognises that there are different keys"
   ]
  },
  {
   "cell_type": "code",
   "execution_count": 19,
   "id": "9d868cc2-d8b3-4a65-a0cb-6baff4eb68a1",
   "metadata": {},
   "outputs": [
    {
     "data": {
      "text/plain": [
       "Brazil    100.0\n",
       "China     950.0\n",
       "India     410.0\n",
       "Japan      80.0\n",
       "USA       510.0\n",
       "dtype: float64"
      ]
     },
     "execution_count": 19,
     "metadata": {},
     "output_type": "execute_result"
    }
   ],
   "source": [
    "sales_q1.add(sales_q2, fill_value = 0) #Same for division etc"
   ]
  },
  {
   "cell_type": "code",
   "execution_count": null,
   "id": "ea0e3720-fb3d-4997-be4b-10bf7d974520",
   "metadata": {},
   "outputs": [],
   "source": []
  }
 ],
 "metadata": {
  "kernelspec": {
   "display_name": "Python 3 (ipykernel)",
   "language": "python",
   "name": "python3"
  },
  "language_info": {
   "codemirror_mode": {
    "name": "ipython",
    "version": 3
   },
   "file_extension": ".py",
   "mimetype": "text/x-python",
   "name": "python",
   "nbconvert_exporter": "python",
   "pygments_lexer": "ipython3",
   "version": "3.9.7"
  }
 },
 "nbformat": 4,
 "nbformat_minor": 5
}
